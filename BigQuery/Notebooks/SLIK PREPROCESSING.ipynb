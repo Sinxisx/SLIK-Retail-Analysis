{
  "nbformat": 4,
  "nbformat_minor": 0,
  "metadata": {
    "colab": {
      "cell_execution_strategy": "setup",
      "provenance": [],
      "name": "SLIK PREPROCESSING"
    },
    "kernelspec": {
      "name": "python3",
      "display_name": "Python 3"
    },
    "language_info": {
      "name": "python"
    },
    "widgets": {
      "application/vnd.jupyter.widget-state+json": {
        "9d5a283ad6d546e4b5868f108cda3f1c": {
          "model_module": "@jupyter-widgets/controls",
          "model_name": "HBoxModel",
          "model_module_version": "1.5.0",
          "state": {
            "_dom_classes": [],
            "_model_module": "@jupyter-widgets/controls",
            "_model_module_version": "1.5.0",
            "_model_name": "HBoxModel",
            "_view_count": null,
            "_view_module": "@jupyter-widgets/controls",
            "_view_module_version": "1.5.0",
            "_view_name": "HBoxView",
            "box_style": "",
            "children": [
              "IPY_MODEL_541c7576c79d4cc88a271c12856cfcb4",
              "IPY_MODEL_ca5b8a6ea19042308689e861fcf6c023",
              "IPY_MODEL_20a63c35c6734702bee64d3f773c2570"
            ],
            "layout": "IPY_MODEL_8ef3382479ba4b968ee80fe1a6a5e774"
          }
        },
        "541c7576c79d4cc88a271c12856cfcb4": {
          "model_module": "@jupyter-widgets/controls",
          "model_name": "HTMLModel",
          "model_module_version": "1.5.0",
          "state": {
            "_dom_classes": [],
            "_model_module": "@jupyter-widgets/controls",
            "_model_module_version": "1.5.0",
            "_model_name": "HTMLModel",
            "_view_count": null,
            "_view_module": "@jupyter-widgets/controls",
            "_view_module_version": "1.5.0",
            "_view_name": "HTMLView",
            "description": "",
            "description_tooltip": null,
            "layout": "IPY_MODEL_82a2244469d14959ba25a7ca50d3fe9c",
            "placeholder": "​",
            "style": "IPY_MODEL_138c0324a77b442fa7edd1eae851331b",
            "value": "Job ID f5c8da13-07d5-4414-b1c8-2300a1c88c48 successfully executed: 100%"
          }
        },
        "ca5b8a6ea19042308689e861fcf6c023": {
          "model_module": "@jupyter-widgets/controls",
          "model_name": "FloatProgressModel",
          "model_module_version": "1.5.0",
          "state": {
            "_dom_classes": [],
            "_model_module": "@jupyter-widgets/controls",
            "_model_module_version": "1.5.0",
            "_model_name": "FloatProgressModel",
            "_view_count": null,
            "_view_module": "@jupyter-widgets/controls",
            "_view_module_version": "1.5.0",
            "_view_name": "ProgressView",
            "bar_style": "success",
            "description": "",
            "description_tooltip": null,
            "layout": "IPY_MODEL_68f3cae1be534cd7b171fdae79b94fbf",
            "max": 1,
            "min": 0,
            "orientation": "horizontal",
            "style": "IPY_MODEL_711b45ccb8a24a7d914a7176dfc760ca",
            "value": 1
          }
        },
        "20a63c35c6734702bee64d3f773c2570": {
          "model_module": "@jupyter-widgets/controls",
          "model_name": "HTMLModel",
          "model_module_version": "1.5.0",
          "state": {
            "_dom_classes": [],
            "_model_module": "@jupyter-widgets/controls",
            "_model_module_version": "1.5.0",
            "_model_name": "HTMLModel",
            "_view_count": null,
            "_view_module": "@jupyter-widgets/controls",
            "_view_module_version": "1.5.0",
            "_view_name": "HTMLView",
            "description": "",
            "description_tooltip": null,
            "layout": "IPY_MODEL_2a9ca740cf00434a801851aade85290f",
            "placeholder": "​",
            "style": "IPY_MODEL_268fe82b017e4eefbf84642399967ec6",
            "value": ""
          }
        },
        "8ef3382479ba4b968ee80fe1a6a5e774": {
          "model_module": "@jupyter-widgets/base",
          "model_name": "LayoutModel",
          "model_module_version": "1.2.0",
          "state": {
            "_model_module": "@jupyter-widgets/base",
            "_model_module_version": "1.2.0",
            "_model_name": "LayoutModel",
            "_view_count": null,
            "_view_module": "@jupyter-widgets/base",
            "_view_module_version": "1.2.0",
            "_view_name": "LayoutView",
            "align_content": null,
            "align_items": null,
            "align_self": null,
            "border": null,
            "bottom": null,
            "display": null,
            "flex": null,
            "flex_flow": null,
            "grid_area": null,
            "grid_auto_columns": null,
            "grid_auto_flow": null,
            "grid_auto_rows": null,
            "grid_column": null,
            "grid_gap": null,
            "grid_row": null,
            "grid_template_areas": null,
            "grid_template_columns": null,
            "grid_template_rows": null,
            "height": null,
            "justify_content": null,
            "justify_items": null,
            "left": null,
            "margin": null,
            "max_height": null,
            "max_width": null,
            "min_height": null,
            "min_width": null,
            "object_fit": null,
            "object_position": null,
            "order": null,
            "overflow": null,
            "overflow_x": null,
            "overflow_y": null,
            "padding": null,
            "right": null,
            "top": null,
            "visibility": null,
            "width": null
          }
        },
        "82a2244469d14959ba25a7ca50d3fe9c": {
          "model_module": "@jupyter-widgets/base",
          "model_name": "LayoutModel",
          "model_module_version": "1.2.0",
          "state": {
            "_model_module": "@jupyter-widgets/base",
            "_model_module_version": "1.2.0",
            "_model_name": "LayoutModel",
            "_view_count": null,
            "_view_module": "@jupyter-widgets/base",
            "_view_module_version": "1.2.0",
            "_view_name": "LayoutView",
            "align_content": null,
            "align_items": null,
            "align_self": null,
            "border": null,
            "bottom": null,
            "display": null,
            "flex": null,
            "flex_flow": null,
            "grid_area": null,
            "grid_auto_columns": null,
            "grid_auto_flow": null,
            "grid_auto_rows": null,
            "grid_column": null,
            "grid_gap": null,
            "grid_row": null,
            "grid_template_areas": null,
            "grid_template_columns": null,
            "grid_template_rows": null,
            "height": null,
            "justify_content": null,
            "justify_items": null,
            "left": null,
            "margin": null,
            "max_height": null,
            "max_width": null,
            "min_height": null,
            "min_width": null,
            "object_fit": null,
            "object_position": null,
            "order": null,
            "overflow": null,
            "overflow_x": null,
            "overflow_y": null,
            "padding": null,
            "right": null,
            "top": null,
            "visibility": null,
            "width": null
          }
        },
        "138c0324a77b442fa7edd1eae851331b": {
          "model_module": "@jupyter-widgets/controls",
          "model_name": "DescriptionStyleModel",
          "model_module_version": "1.5.0",
          "state": {
            "_model_module": "@jupyter-widgets/controls",
            "_model_module_version": "1.5.0",
            "_model_name": "DescriptionStyleModel",
            "_view_count": null,
            "_view_module": "@jupyter-widgets/base",
            "_view_module_version": "1.2.0",
            "_view_name": "StyleView",
            "description_width": ""
          }
        },
        "68f3cae1be534cd7b171fdae79b94fbf": {
          "model_module": "@jupyter-widgets/base",
          "model_name": "LayoutModel",
          "model_module_version": "1.2.0",
          "state": {
            "_model_module": "@jupyter-widgets/base",
            "_model_module_version": "1.2.0",
            "_model_name": "LayoutModel",
            "_view_count": null,
            "_view_module": "@jupyter-widgets/base",
            "_view_module_version": "1.2.0",
            "_view_name": "LayoutView",
            "align_content": null,
            "align_items": null,
            "align_self": null,
            "border": null,
            "bottom": null,
            "display": null,
            "flex": null,
            "flex_flow": null,
            "grid_area": null,
            "grid_auto_columns": null,
            "grid_auto_flow": null,
            "grid_auto_rows": null,
            "grid_column": null,
            "grid_gap": null,
            "grid_row": null,
            "grid_template_areas": null,
            "grid_template_columns": null,
            "grid_template_rows": null,
            "height": null,
            "justify_content": null,
            "justify_items": null,
            "left": null,
            "margin": null,
            "max_height": null,
            "max_width": null,
            "min_height": null,
            "min_width": null,
            "object_fit": null,
            "object_position": null,
            "order": null,
            "overflow": null,
            "overflow_x": null,
            "overflow_y": null,
            "padding": null,
            "right": null,
            "top": null,
            "visibility": null,
            "width": null
          }
        },
        "711b45ccb8a24a7d914a7176dfc760ca": {
          "model_module": "@jupyter-widgets/controls",
          "model_name": "ProgressStyleModel",
          "model_module_version": "1.5.0",
          "state": {
            "_model_module": "@jupyter-widgets/controls",
            "_model_module_version": "1.5.0",
            "_model_name": "ProgressStyleModel",
            "_view_count": null,
            "_view_module": "@jupyter-widgets/base",
            "_view_module_version": "1.2.0",
            "_view_name": "StyleView",
            "bar_color": null,
            "description_width": ""
          }
        },
        "2a9ca740cf00434a801851aade85290f": {
          "model_module": "@jupyter-widgets/base",
          "model_name": "LayoutModel",
          "model_module_version": "1.2.0",
          "state": {
            "_model_module": "@jupyter-widgets/base",
            "_model_module_version": "1.2.0",
            "_model_name": "LayoutModel",
            "_view_count": null,
            "_view_module": "@jupyter-widgets/base",
            "_view_module_version": "1.2.0",
            "_view_name": "LayoutView",
            "align_content": null,
            "align_items": null,
            "align_self": null,
            "border": null,
            "bottom": null,
            "display": null,
            "flex": null,
            "flex_flow": null,
            "grid_area": null,
            "grid_auto_columns": null,
            "grid_auto_flow": null,
            "grid_auto_rows": null,
            "grid_column": null,
            "grid_gap": null,
            "grid_row": null,
            "grid_template_areas": null,
            "grid_template_columns": null,
            "grid_template_rows": null,
            "height": null,
            "justify_content": null,
            "justify_items": null,
            "left": null,
            "margin": null,
            "max_height": null,
            "max_width": null,
            "min_height": null,
            "min_width": null,
            "object_fit": null,
            "object_position": null,
            "order": null,
            "overflow": null,
            "overflow_x": null,
            "overflow_y": null,
            "padding": null,
            "right": null,
            "top": null,
            "visibility": null,
            "width": null
          }
        },
        "268fe82b017e4eefbf84642399967ec6": {
          "model_module": "@jupyter-widgets/controls",
          "model_name": "DescriptionStyleModel",
          "model_module_version": "1.5.0",
          "state": {
            "_model_module": "@jupyter-widgets/controls",
            "_model_module_version": "1.5.0",
            "_model_name": "DescriptionStyleModel",
            "_view_count": null,
            "_view_module": "@jupyter-widgets/base",
            "_view_module_version": "1.2.0",
            "_view_name": "StyleView",
            "description_width": ""
          }
        },
        "1db917532d47433a810e38f28a212a47": {
          "model_module": "@jupyter-widgets/controls",
          "model_name": "HBoxModel",
          "model_module_version": "1.5.0",
          "state": {
            "_dom_classes": [],
            "_model_module": "@jupyter-widgets/controls",
            "_model_module_version": "1.5.0",
            "_model_name": "HBoxModel",
            "_view_count": null,
            "_view_module": "@jupyter-widgets/controls",
            "_view_module_version": "1.5.0",
            "_view_name": "HBoxView",
            "box_style": "",
            "children": [
              "IPY_MODEL_1cc404c53cb34bd9aa02911230e13489",
              "IPY_MODEL_d4ab0f2486b443c89b5b998d461332ed",
              "IPY_MODEL_92eb929783024639be710f4305951eb8"
            ],
            "layout": "IPY_MODEL_bf29f25fabbf40758fd1a8bba2123681"
          }
        },
        "1cc404c53cb34bd9aa02911230e13489": {
          "model_module": "@jupyter-widgets/controls",
          "model_name": "HTMLModel",
          "model_module_version": "1.5.0",
          "state": {
            "_dom_classes": [],
            "_model_module": "@jupyter-widgets/controls",
            "_model_module_version": "1.5.0",
            "_model_name": "HTMLModel",
            "_view_count": null,
            "_view_module": "@jupyter-widgets/controls",
            "_view_module_version": "1.5.0",
            "_view_name": "HTMLView",
            "description": "",
            "description_tooltip": null,
            "layout": "IPY_MODEL_d63a45733eba4ce9a8d029a6becdfe33",
            "placeholder": "​",
            "style": "IPY_MODEL_26aa5495f29c498f8423a8ac878ca0fd",
            "value": "Downloading: 100%"
          }
        },
        "d4ab0f2486b443c89b5b998d461332ed": {
          "model_module": "@jupyter-widgets/controls",
          "model_name": "FloatProgressModel",
          "model_module_version": "1.5.0",
          "state": {
            "_dom_classes": [],
            "_model_module": "@jupyter-widgets/controls",
            "_model_module_version": "1.5.0",
            "_model_name": "FloatProgressModel",
            "_view_count": null,
            "_view_module": "@jupyter-widgets/controls",
            "_view_module_version": "1.5.0",
            "_view_name": "ProgressView",
            "bar_style": "success",
            "description": "",
            "description_tooltip": null,
            "layout": "IPY_MODEL_6838f653780d4c1e871ae7cc60c02721",
            "max": 14660,
            "min": 0,
            "orientation": "horizontal",
            "style": "IPY_MODEL_132962a4f81e4dd2a01bb5642a527f34",
            "value": 14660
          }
        },
        "92eb929783024639be710f4305951eb8": {
          "model_module": "@jupyter-widgets/controls",
          "model_name": "HTMLModel",
          "model_module_version": "1.5.0",
          "state": {
            "_dom_classes": [],
            "_model_module": "@jupyter-widgets/controls",
            "_model_module_version": "1.5.0",
            "_model_name": "HTMLModel",
            "_view_count": null,
            "_view_module": "@jupyter-widgets/controls",
            "_view_module_version": "1.5.0",
            "_view_name": "HTMLView",
            "description": "",
            "description_tooltip": null,
            "layout": "IPY_MODEL_bd7b67f5a1db4890a4df7091ced77a9f",
            "placeholder": "​",
            "style": "IPY_MODEL_53e500273c174e30ae9f07c58ea89ce0",
            "value": ""
          }
        },
        "bf29f25fabbf40758fd1a8bba2123681": {
          "model_module": "@jupyter-widgets/base",
          "model_name": "LayoutModel",
          "model_module_version": "1.2.0",
          "state": {
            "_model_module": "@jupyter-widgets/base",
            "_model_module_version": "1.2.0",
            "_model_name": "LayoutModel",
            "_view_count": null,
            "_view_module": "@jupyter-widgets/base",
            "_view_module_version": "1.2.0",
            "_view_name": "LayoutView",
            "align_content": null,
            "align_items": null,
            "align_self": null,
            "border": null,
            "bottom": null,
            "display": null,
            "flex": null,
            "flex_flow": null,
            "grid_area": null,
            "grid_auto_columns": null,
            "grid_auto_flow": null,
            "grid_auto_rows": null,
            "grid_column": null,
            "grid_gap": null,
            "grid_row": null,
            "grid_template_areas": null,
            "grid_template_columns": null,
            "grid_template_rows": null,
            "height": null,
            "justify_content": null,
            "justify_items": null,
            "left": null,
            "margin": null,
            "max_height": null,
            "max_width": null,
            "min_height": null,
            "min_width": null,
            "object_fit": null,
            "object_position": null,
            "order": null,
            "overflow": null,
            "overflow_x": null,
            "overflow_y": null,
            "padding": null,
            "right": null,
            "top": null,
            "visibility": null,
            "width": null
          }
        },
        "d63a45733eba4ce9a8d029a6becdfe33": {
          "model_module": "@jupyter-widgets/base",
          "model_name": "LayoutModel",
          "model_module_version": "1.2.0",
          "state": {
            "_model_module": "@jupyter-widgets/base",
            "_model_module_version": "1.2.0",
            "_model_name": "LayoutModel",
            "_view_count": null,
            "_view_module": "@jupyter-widgets/base",
            "_view_module_version": "1.2.0",
            "_view_name": "LayoutView",
            "align_content": null,
            "align_items": null,
            "align_self": null,
            "border": null,
            "bottom": null,
            "display": null,
            "flex": null,
            "flex_flow": null,
            "grid_area": null,
            "grid_auto_columns": null,
            "grid_auto_flow": null,
            "grid_auto_rows": null,
            "grid_column": null,
            "grid_gap": null,
            "grid_row": null,
            "grid_template_areas": null,
            "grid_template_columns": null,
            "grid_template_rows": null,
            "height": null,
            "justify_content": null,
            "justify_items": null,
            "left": null,
            "margin": null,
            "max_height": null,
            "max_width": null,
            "min_height": null,
            "min_width": null,
            "object_fit": null,
            "object_position": null,
            "order": null,
            "overflow": null,
            "overflow_x": null,
            "overflow_y": null,
            "padding": null,
            "right": null,
            "top": null,
            "visibility": null,
            "width": null
          }
        },
        "26aa5495f29c498f8423a8ac878ca0fd": {
          "model_module": "@jupyter-widgets/controls",
          "model_name": "DescriptionStyleModel",
          "model_module_version": "1.5.0",
          "state": {
            "_model_module": "@jupyter-widgets/controls",
            "_model_module_version": "1.5.0",
            "_model_name": "DescriptionStyleModel",
            "_view_count": null,
            "_view_module": "@jupyter-widgets/base",
            "_view_module_version": "1.2.0",
            "_view_name": "StyleView",
            "description_width": ""
          }
        },
        "6838f653780d4c1e871ae7cc60c02721": {
          "model_module": "@jupyter-widgets/base",
          "model_name": "LayoutModel",
          "model_module_version": "1.2.0",
          "state": {
            "_model_module": "@jupyter-widgets/base",
            "_model_module_version": "1.2.0",
            "_model_name": "LayoutModel",
            "_view_count": null,
            "_view_module": "@jupyter-widgets/base",
            "_view_module_version": "1.2.0",
            "_view_name": "LayoutView",
            "align_content": null,
            "align_items": null,
            "align_self": null,
            "border": null,
            "bottom": null,
            "display": null,
            "flex": null,
            "flex_flow": null,
            "grid_area": null,
            "grid_auto_columns": null,
            "grid_auto_flow": null,
            "grid_auto_rows": null,
            "grid_column": null,
            "grid_gap": null,
            "grid_row": null,
            "grid_template_areas": null,
            "grid_template_columns": null,
            "grid_template_rows": null,
            "height": null,
            "justify_content": null,
            "justify_items": null,
            "left": null,
            "margin": null,
            "max_height": null,
            "max_width": null,
            "min_height": null,
            "min_width": null,
            "object_fit": null,
            "object_position": null,
            "order": null,
            "overflow": null,
            "overflow_x": null,
            "overflow_y": null,
            "padding": null,
            "right": null,
            "top": null,
            "visibility": null,
            "width": null
          }
        },
        "132962a4f81e4dd2a01bb5642a527f34": {
          "model_module": "@jupyter-widgets/controls",
          "model_name": "ProgressStyleModel",
          "model_module_version": "1.5.0",
          "state": {
            "_model_module": "@jupyter-widgets/controls",
            "_model_module_version": "1.5.0",
            "_model_name": "ProgressStyleModel",
            "_view_count": null,
            "_view_module": "@jupyter-widgets/base",
            "_view_module_version": "1.2.0",
            "_view_name": "StyleView",
            "bar_color": null,
            "description_width": ""
          }
        },
        "bd7b67f5a1db4890a4df7091ced77a9f": {
          "model_module": "@jupyter-widgets/base",
          "model_name": "LayoutModel",
          "model_module_version": "1.2.0",
          "state": {
            "_model_module": "@jupyter-widgets/base",
            "_model_module_version": "1.2.0",
            "_model_name": "LayoutModel",
            "_view_count": null,
            "_view_module": "@jupyter-widgets/base",
            "_view_module_version": "1.2.0",
            "_view_name": "LayoutView",
            "align_content": null,
            "align_items": null,
            "align_self": null,
            "border": null,
            "bottom": null,
            "display": null,
            "flex": null,
            "flex_flow": null,
            "grid_area": null,
            "grid_auto_columns": null,
            "grid_auto_flow": null,
            "grid_auto_rows": null,
            "grid_column": null,
            "grid_gap": null,
            "grid_row": null,
            "grid_template_areas": null,
            "grid_template_columns": null,
            "grid_template_rows": null,
            "height": null,
            "justify_content": null,
            "justify_items": null,
            "left": null,
            "margin": null,
            "max_height": null,
            "max_width": null,
            "min_height": null,
            "min_width": null,
            "object_fit": null,
            "object_position": null,
            "order": null,
            "overflow": null,
            "overflow_x": null,
            "overflow_y": null,
            "padding": null,
            "right": null,
            "top": null,
            "visibility": null,
            "width": null
          }
        },
        "53e500273c174e30ae9f07c58ea89ce0": {
          "model_module": "@jupyter-widgets/controls",
          "model_name": "DescriptionStyleModel",
          "model_module_version": "1.5.0",
          "state": {
            "_model_module": "@jupyter-widgets/controls",
            "_model_module_version": "1.5.0",
            "_model_name": "DescriptionStyleModel",
            "_view_count": null,
            "_view_module": "@jupyter-widgets/base",
            "_view_module_version": "1.2.0",
            "_view_name": "StyleView",
            "description_width": ""
          }
        }
      }
    }
  },
  "cells": [
    {
      "cell_type": "code",
      "source": [
        "import pandas_gbq\n",
        "import pandas as pd\n",
        "import numpy as np\n",
        "import db_dtypes"
      ],
      "metadata": {
        "id": "nni65O-y89K_"
      },
      "execution_count": null,
      "outputs": []
    },
    {
      "cell_type": "markdown",
      "source": [
        "# Read Table"
      ],
      "metadata": {
        "id": "xP4oQw6bpD4U"
      }
    },
    {
      "cell_type": "code",
      "source": [
        "# load raw table\n",
        "%%bigquery SLIK --project jago-technical-test\n",
        "SELECT *\n",
        "FROM `jago-technical-test.SLIK.SLIK_RAW`"
      ],
      "metadata": {
        "colab": {
          "base_uri": "https://localhost:8080/",
          "height": 109,
          "referenced_widgets": [
            "9d5a283ad6d546e4b5868f108cda3f1c",
            "541c7576c79d4cc88a271c12856cfcb4",
            "ca5b8a6ea19042308689e861fcf6c023",
            "20a63c35c6734702bee64d3f773c2570",
            "8ef3382479ba4b968ee80fe1a6a5e774",
            "82a2244469d14959ba25a7ca50d3fe9c",
            "138c0324a77b442fa7edd1eae851331b",
            "68f3cae1be534cd7b171fdae79b94fbf",
            "711b45ccb8a24a7d914a7176dfc760ca",
            "2a9ca740cf00434a801851aade85290f",
            "268fe82b017e4eefbf84642399967ec6",
            "1db917532d47433a810e38f28a212a47",
            "1cc404c53cb34bd9aa02911230e13489",
            "d4ab0f2486b443c89b5b998d461332ed",
            "92eb929783024639be710f4305951eb8",
            "bf29f25fabbf40758fd1a8bba2123681",
            "d63a45733eba4ce9a8d029a6becdfe33",
            "26aa5495f29c498f8423a8ac878ca0fd",
            "6838f653780d4c1e871ae7cc60c02721",
            "132962a4f81e4dd2a01bb5642a527f34",
            "bd7b67f5a1db4890a4df7091ced77a9f",
            "53e500273c174e30ae9f07c58ea89ce0"
          ]
        },
        "id": "k0mAzzxmsgaF",
        "executionInfo": {
          "status": "ok",
          "timestamp": 1730032510953,
          "user_tz": -420,
          "elapsed": 6058,
          "user": {
            "displayName": "",
            "userId": ""
          }
        },
        "outputId": "5874831c-a604-4dd4-f021-616649616cd1"
      },
      "execution_count": null,
      "outputs": [
        {
          "output_type": "display_data",
          "data": {
            "text/plain": [
              "Query is running:   0%|          |"
            ],
            "application/vnd.jupyter.widget-view+json": {
              "version_major": 2,
              "version_minor": 0,
              "model_id": "9d5a283ad6d546e4b5868f108cda3f1c"
            }
          },
          "metadata": {}
        },
        {
          "output_type": "display_data",
          "data": {
            "text/plain": [
              "Downloading:   0%|          |"
            ],
            "application/vnd.jupyter.widget-view+json": {
              "version_major": 2,
              "version_minor": 0,
              "model_id": "1db917532d47433a810e38f28a212a47"
            }
          },
          "metadata": {}
        }
      ]
    },
    {
      "cell_type": "code",
      "source": [
        "# reassign and check columns for convenience\n",
        "SLIK = SLIK\n",
        "SLIK.columns"
      ],
      "metadata": {
        "colab": {
          "base_uri": "https://localhost:8080/"
        },
        "id": "1QSZjxC6dTFF",
        "executionInfo": {
          "status": "ok",
          "timestamp": 1730032510953,
          "user_tz": -420,
          "elapsed": 8,
          "user": {
            "displayName": "",
            "userId": ""
          }
        },
        "outputId": "2b88e7dd-c0c1-445e-8bb8-b0f146e15f5a"
      },
      "execution_count": null,
      "outputs": [
        {
          "output_type": "execute_result",
          "data": {
            "text/plain": [
              "Index(['ktp', 'kreditId', 'posisiDataTerakhir', 'ljk', 'bakiDebet',\n",
              "       'tanggalUpdate', 'sifatKredit', 'jenisKredit', 'tanggalAkadAwal',\n",
              "       'tanggalAwalKredit',\n",
              "       ...\n",
              "       'tahunBulan23Kol', 'tahunBulan23Ht', 'tahunBulan24', 'tahunBulan24Kol',\n",
              "       'tahunBulan24Ht', 'akadPembiayaan', 'kategoriDebiturKode',\n",
              "       'jenisPenggunaanKet', 'jenisAgunan', 'tenor'],\n",
              "      dtype='object', length=104)"
            ]
          },
          "metadata": {},
          "execution_count": 3
        }
      ]
    },
    {
      "cell_type": "markdown",
      "source": [
        "# Data Preparation"
      ],
      "metadata": {
        "id": "74xiTxPipLp8"
      }
    },
    {
      "cell_type": "markdown",
      "source": [
        "## 1. Transform Kol and HT Period"
      ],
      "metadata": {
        "id": "e2VKiIVLxjO0"
      }
    },
    {
      "cell_type": "code",
      "source": [
        "SLIK.columns"
      ],
      "metadata": {
        "colab": {
          "base_uri": "https://localhost:8080/"
        },
        "id": "4_c8v2V3es-x",
        "executionInfo": {
          "status": "ok",
          "timestamp": 1730032510953,
          "user_tz": -420,
          "elapsed": 6,
          "user": {
            "displayName": "",
            "userId": ""
          }
        },
        "outputId": "8fa36ae0-3620-4344-ce53-37278ae9ca01"
      },
      "execution_count": null,
      "outputs": [
        {
          "output_type": "execute_result",
          "data": {
            "text/plain": [
              "Index(['ktp', 'kreditId', 'posisiDataTerakhir', 'ljk', 'bakiDebet',\n",
              "       'tanggalUpdate', 'sifatKredit', 'jenisKredit', 'tanggalAkadAwal',\n",
              "       'tanggalAwalKredit',\n",
              "       ...\n",
              "       'tahunBulan23Kol', 'tahunBulan23Ht', 'tahunBulan24', 'tahunBulan24Kol',\n",
              "       'tahunBulan24Ht', 'akadPembiayaan', 'kategoriDebiturKode',\n",
              "       'jenisPenggunaanKet', 'jenisAgunan', 'tenor'],\n",
              "      dtype='object', length=104)"
            ]
          },
          "metadata": {},
          "execution_count": 4
        }
      ]
    },
    {
      "cell_type": "code",
      "source": [
        "# list year month of the last 24 period from application date\n",
        "# list all relevant fields\n",
        "\n",
        "ym = [202310,202309,202308,202307,202306,202305,202304,202303,202302,202301,\n",
        "      202212,202211,202210,202209,202208,202207,202206,202205,202204,202203,\n",
        "      202202,202201,202112,202111]\n",
        "ym_cols = ['tahunBulan01','tahunBulan02','tahunBulan03','tahunBulan04','tahunBulan05','tahunBulan06',\n",
        "          'tahunBulan07','tahunBulan08','tahunBulan09','tahunBulan10','tahunBulan11','tahunBulan12',\n",
        "          'tahunBulan13','tahunBulan14','tahunBulan15','tahunBulan16','tahunBulan17','tahunBulan18',\n",
        "          'tahunBulan19','tahunBulan20','tahunBulan21','tahunBulan22','tahunBulan23','tahunBulan24']\n",
        "ym_col_cols = ['tahunBulan01Kol','tahunBulan02Kol','tahunBulan03Kol','tahunBulan04Kol','tahunBulan05Kol','tahunBulan06Kol',\n",
        "          'tahunBulan07Kol','tahunBulan08Kol','tahunBulan09Kol','tahunBulan10Kol','tahunBulan11Kol','tahunBulan12Kol',\n",
        "          'tahunBulan13Kol','tahunBulan14Kol','tahunBulan15Kol','tahunBulan16Kol','tahunBulan17Kol','tahunBulan18Kol',\n",
        "          'tahunBulan19Kol','tahunBulan20Kol','tahunBulan21Kol','tahunBulan22Kol','tahunBulan23Kol','tahunBulan24Kol']\n",
        "ym_ht_cols = ['tahunBulan01Ht','tahunBulan02Ht','tahunBulan03Ht','tahunBulan04Ht','tahunBulan05Ht','tahunBulan06Ht',\n",
        "          'tahunBulan07Ht','tahunBulan08Ht','tahunBulan09Ht','tahunBulan10Ht','tahunBulan11Ht','tahunBulan12Ht',\n",
        "          'tahunBulan13Ht','tahunBulan14Ht','tahunBulan15Ht','tahunBulan16Ht','tahunBulan17Ht','tahunBulan18Ht',\n",
        "          'tahunBulan19Ht','tahunBulan20Ht','tahunBulan21Ht','tahunBulan22Ht','tahunBulan23Ht','tahunBulan24Ht']\n",
        "\n",
        "# initialize new cols\n",
        "for i in ym:\n",
        "  SLIK[f'Kol_{i}'] = np.nan\n",
        "  SLIK[f'Ht_{i}'] = np.nan"
      ],
      "metadata": {
        "id": "CqCTTfrUd3_9"
      },
      "execution_count": null,
      "outputs": []
    },
    {
      "cell_type": "code",
      "source": [
        "# assign value for new cols\n",
        "for i in list(SLIK.index):\n",
        "  for j in range(len(ym)):\n",
        "    yearMonth = ym[j]\n",
        "    try:\n",
        "       idx = list(SLIK.loc[i,ym_cols]).index(yearMonth)\n",
        "       SLIK.loc[i,f'Kol_{yearMonth}'] = SLIK.loc[i,ym_col_cols[idx]]\n",
        "       SLIK.loc[i,f'Ht_{yearMonth}'] = SLIK.loc[i,ym_ht_cols[idx]]\n",
        "    except:\n",
        "      pass"
      ],
      "metadata": {
        "id": "lR-cw-D-ns49"
      },
      "execution_count": null,
      "outputs": []
    },
    {
      "cell_type": "code",
      "source": [
        "# fill na\n",
        "for i in range(len(ym)):\n",
        "  yearMonth = ym[i]\n",
        "  SLIK.loc[:,f'Kol_{yearMonth}'] = SLIK[[f'Kol_{yearMonth}']].fillna(0)\n",
        "  SLIK.loc[:,f'Ht_{yearMonth}'] = SLIK[[f'Ht_{yearMonth}']].fillna(0)"
      ],
      "metadata": {
        "id": "LVudyVre9owX"
      },
      "execution_count": null,
      "outputs": []
    },
    {
      "cell_type": "markdown",
      "source": [
        "# Export To BQ Table"
      ],
      "metadata": {
        "id": "n3lbGVbeBaAd"
      }
    },
    {
      "cell_type": "code",
      "source": [
        "# check columns\n",
        "SLIK.columns"
      ],
      "metadata": {
        "id": "Bo_aj5y72sZ6",
        "colab": {
          "base_uri": "https://localhost:8080/"
        },
        "executionInfo": {
          "status": "ok",
          "timestamp": 1730033201944,
          "user_tz": -420,
          "elapsed": 239,
          "user": {
            "displayName": "",
            "userId": ""
          }
        },
        "outputId": "8a405efc-99dd-47b0-8483-3c560f890000"
      },
      "execution_count": null,
      "outputs": [
        {
          "output_type": "execute_result",
          "data": {
            "text/plain": [
              "Index(['ktp', 'kreditId', 'posisiDataTerakhir', 'ljk', 'bakiDebet',\n",
              "       'tanggalUpdate', 'sifatKredit', 'jenisKredit', 'tanggalAkadAwal',\n",
              "       'tanggalAwalKredit',\n",
              "       ...\n",
              "       'Kol_202203', 'Ht_202203', 'Kol_202202', 'Ht_202202', 'Kol_202201',\n",
              "       'Ht_202201', 'Kol_202112', 'Ht_202112', 'Kol_202111', 'Ht_202111'],\n",
              "      dtype='object', length=152)"
            ]
          },
          "metadata": {},
          "execution_count": 9
        }
      ]
    },
    {
      "cell_type": "code",
      "source": [
        "# export to new table\n",
        "\n",
        "project_id = 'jago-technical-test'\n",
        "table_id = 'SLIK.SLIK_COLHT'\n",
        "SLIK.to_gbq(table_id, project_id=project_id)"
      ],
      "metadata": {
        "id": "H9exy4zojhrc",
        "colab": {
          "base_uri": "https://localhost:8080/"
        },
        "executionInfo": {
          "status": "ok",
          "timestamp": 1730033212022,
          "user_tz": -420,
          "elapsed": 8186,
          "user": {
            "displayName": "",
            "userId": ""
          }
        },
        "outputId": "49682b84-5de3-4dfb-cfd0-28b5e783e0ec"
      },
      "execution_count": null,
      "outputs": [
        {
          "output_type": "stream",
          "name": "stderr",
          "text": [
            "<ipython-input-10-1e20f180b513>:3: FutureWarning: to_gbq is deprecated and will be removed in a future version. Please use pandas_gbq.to_gbq instead: https://pandas-gbq.readthedocs.io/en/latest/api.html#pandas_gbq.to_gbq\n",
            "  SLIK.to_gbq(table_id, project_id=project_id)\n"
          ]
        },
        {
          "output_type": "stream",
          "name": "stdout",
          "text": [
            "WARNING: google.colab.auth.authenticate_user() is not supported in Colab Enterprise.\n"
          ]
        },
        {
          "output_type": "stream",
          "name": "stderr",
          "text": [
            "100%|██████████| 1/1 [00:00<00:00, 9915.61it/s]\n"
          ]
        }
      ]
    }
  ]
}